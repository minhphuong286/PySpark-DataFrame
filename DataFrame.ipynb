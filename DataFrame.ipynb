{
  "nbformat": 4,
  "nbformat_minor": 0,
  "metadata": {
    "colab": {
      "name": "DataFrame.ipynb",
      "provenance": [],
      "collapsed_sections": []
    },
    "kernelspec": {
      "name": "python3",
      "display_name": "Python 3"
    }
  },
  "cells": [
    {
      "cell_type": "code",
      "metadata": {
        "colab": {
          "base_uri": "https://localhost:8080/"
        },
        "id": "X6UW9HPKXOGj",
        "outputId": "c52dc886-73a4-4500-a2f8-a8437a5b959a"
      },
      "source": [
        "!pip install pyspark"
      ],
      "execution_count": 36,
      "outputs": [
        {
          "output_type": "stream",
          "text": [
            "Requirement already satisfied: pyspark in /usr/local/lib/python3.6/dist-packages (3.0.1)\n",
            "Requirement already satisfied: py4j==0.10.9 in /usr/local/lib/python3.6/dist-packages (from pyspark) (0.10.9)\n"
          ],
          "name": "stdout"
        }
      ]
    },
    {
      "cell_type": "code",
      "metadata": {
        "id": "wDkN0-JWYBYj"
      },
      "source": [
        "import pyspark\r\n",
        "from pyspark import SparkContext\r\n",
        "sc = SparkContext()\r\n",
        "sqlContext = SQLContext(sc)\r\n",
        "from pyspark.sql import *\r\n",
        "Employee = Row(\"firstName\", \"lastName\", \"email\", \"salary\")"
      ],
      "execution_count": null,
      "outputs": []
    },
    {
      "cell_type": "code",
      "metadata": {
        "id": "-wDvZtIShFTR"
      },
      "source": [
        "spark = SparkSession.builder.appName('SparkByExamples.com').getOrCreate()"
      ],
      "execution_count": 38,
      "outputs": []
    },
    {
      "cell_type": "code",
      "metadata": {
        "colab": {
          "base_uri": "https://localhost:8080/"
        },
        "id": "0Y1jIp2_YFf1",
        "outputId": "d244a30e-d7bd-40b7-fd5f-ae5483d25cf9"
      },
      "source": [
        "employee1 = Employee('Basher', 'armbrust', 'bash@edureka.co', 100000)\r\n",
        "employee2 = Employee('Daniel', 'meng', 'daniel@stanford.edu', 120000 )\r\n",
        "employee3 = Employee('Muriel', None, 'muriel@waterloo.edu', 140000 )\r\n",
        "employee4 = Employee('Rachel', 'wendell', 'rach_3@edureka.co', 160000 )\r\n",
        "employee5 = Employee('Zach', 'galifianakis', 'zach_g@edureka.co', 160000 )\r\n",
        " \r\n",
        "print(Employee[0])\r\n",
        " \r\n",
        "print(employee3)"
      ],
      "execution_count": 39,
      "outputs": [
        {
          "output_type": "stream",
          "text": [
            "firstName\n",
            "Row(firstName='Muriel', lastName=None, email='muriel@waterloo.edu', salary=140000)\n"
          ],
          "name": "stdout"
        }
      ]
    },
    {
      "cell_type": "code",
      "metadata": {
        "id": "stpaf3PaYG3a"
      },
      "source": [
        "department1 = Row(id='123456', name='HR')\r\n",
        "department2 = Row(id='789012', name='OPS')\r\n",
        "department3 = Row(id='345678', name='FN')\r\n",
        "department4 = Row(id='901234', name='DEV')"
      ],
      "execution_count": 40,
      "outputs": []
    },
    {
      "cell_type": "code",
      "metadata": {
        "id": "C_Fj-8zfYMUv"
      },
      "source": [
        "departmentWithEmployees1 = Row(department=department1, employees=[employee1, employee2, employee5])\r\n",
        "departmentWithEmployees2 = Row(department=department2, employees=[employee3, employee4])\r\n",
        "departmentWithEmployees3 = Row(department=department3, employees=[employee1, employee4, employee3])\r\n",
        "departmentWithEmployees4 = Row(department=department4, employees=[employee2, employee3])"
      ],
      "execution_count": 41,
      "outputs": []
    },
    {
      "cell_type": "code",
      "metadata": {
        "colab": {
          "base_uri": "https://localhost:8080/",
          "height": 153
        },
        "id": "BFwxE5VYW6zT",
        "outputId": "0cf05016-9196-4242-a064-873b7ebdc012"
      },
      "source": [
        "departmentsWithEmployees_Seq = [departmentWithEmployees1, departmentWithEmployees2]\r\n",
        "dframe = spark.createDataFrame(departmentsWithEmployees_Seq)\r\n",
        "\r\n",
        "display(dframe)\r\n",
        "dframe.show()"
      ],
      "execution_count": 42,
      "outputs": [
        {
          "output_type": "display_data",
          "data": {
            "text/plain": [
              "DataFrame[department: struct<id:string,name:string>, employees: array<struct<firstName:string,lastName:string,email:string,salary:bigint>>]"
            ]
          },
          "metadata": {
            "tags": []
          }
        },
        {
          "output_type": "stream",
          "text": [
            "+-------------+--------------------+\n",
            "|   department|           employees|\n",
            "+-------------+--------------------+\n",
            "| [123456, HR]|[[Basher, armbrus...|\n",
            "|[789012, OPS]|[[Muriel,, muriel...|\n",
            "+-------------+--------------------+\n",
            "\n"
          ],
          "name": "stdout"
        }
      ]
    }
  ]
}